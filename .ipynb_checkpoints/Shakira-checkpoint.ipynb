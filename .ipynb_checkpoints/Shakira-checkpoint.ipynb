{
 "cells": [
  {
   "cell_type": "code",
   "execution_count": 1,
   "id": "cc6a893a",
   "metadata": {},
   "outputs": [],
   "source": [
    "import string as str\n",
    "import csv\n",
    "import pandas as pd\n",
    "import nltk\n",
    "from nltk.tokenize import word_tokenize\n",
    "from nltk.corpus import stopwords\n",
    "from collections import Counter\n",
    "import matplotlib.pyplot as plt"
   ]
  },
  {
   "cell_type": "code",
   "execution_count": 2,
   "id": "42322583",
   "metadata": {},
   "outputs": [
    {
     "name": "stderr",
     "output_type": "stream",
     "text": [
      "[nltk_data] Downloading package punkt to\n",
      "[nltk_data]     C:\\Users\\Asus\\AppData\\Roaming\\nltk_data...\n",
      "[nltk_data]   Package punkt is already up-to-date!\n",
      "[nltk_data] Downloading package stopwords to\n",
      "[nltk_data]     C:\\Users\\Asus\\AppData\\Roaming\\nltk_data...\n",
      "[nltk_data]   Package stopwords is already up-to-date!\n"
     ]
    },
    {
     "data": {
      "text/plain": [
       "True"
      ]
     },
     "execution_count": 2,
     "metadata": {},
     "output_type": "execute_result"
    }
   ],
   "source": [
    "nltk.download('punkt')\n",
    "nltk.download('stopwords')"
   ]
  },
  {
   "cell_type": "code",
   "execution_count": 3,
   "id": "ad117b66",
   "metadata": {},
   "outputs": [],
   "source": [
    "data = pd.read_csv('shakira.csv')"
   ]
  },
  {
   "cell_type": "code",
   "execution_count": 4,
   "id": "950594ee",
   "metadata": {},
   "outputs": [
    {
     "data": {
      "text/html": [
       "<div>\n",
       "<style scoped>\n",
       "    .dataframe tbody tr th:only-of-type {\n",
       "        vertical-align: middle;\n",
       "    }\n",
       "\n",
       "    .dataframe tbody tr th {\n",
       "        vertical-align: top;\n",
       "    }\n",
       "\n",
       "    .dataframe thead th {\n",
       "        text-align: right;\n",
       "    }\n",
       "</style>\n",
       "<table border=\"1\" class=\"dataframe\">\n",
       "  <thead>\n",
       "    <tr style=\"text-align: right;\">\n",
       "      <th></th>\n",
       "      <th>COMMENT_ID</th>\n",
       "      <th>AUTHOR</th>\n",
       "      <th>DATE</th>\n",
       "      <th>CONTENT</th>\n",
       "      <th>CLASS</th>\n",
       "    </tr>\n",
       "  </thead>\n",
       "  <tbody>\n",
       "    <tr>\n",
       "      <th>0</th>\n",
       "      <td>z13lgffb5w3ddx1ul22qy1wxspy5cpkz504</td>\n",
       "      <td>dharma pal</td>\n",
       "      <td>2015-05-29T02:30:18.971000</td>\n",
       "      <td>Nice song﻿</td>\n",
       "      <td>0</td>\n",
       "    </tr>\n",
       "    <tr>\n",
       "      <th>1</th>\n",
       "      <td>z123dbgb0mqjfxbtz22ucjc5jvzcv3ykj</td>\n",
       "      <td>Tiza Arellano</td>\n",
       "      <td>2015-05-29T00:14:48.748000</td>\n",
       "      <td>I love song ﻿</td>\n",
       "      <td>0</td>\n",
       "    </tr>\n",
       "    <tr>\n",
       "      <th>2</th>\n",
       "      <td>z12quxxp2vutflkxv04cihggzt2azl34pms0k</td>\n",
       "      <td>Prìñçeśś Âliś Łøvê Dømíñø Mâđiś™ ﻿</td>\n",
       "      <td>2015-05-28T21:00:08.607000</td>\n",
       "      <td>I love song ﻿</td>\n",
       "      <td>0</td>\n",
       "    </tr>\n",
       "    <tr>\n",
       "      <th>3</th>\n",
       "      <td>z12icv3ysqvlwth2c23eddlykyqut5z1h</td>\n",
       "      <td>Eric Gonzalez</td>\n",
       "      <td>2015-05-28T20:47:12.193000</td>\n",
       "      <td>860,000,000 lets make it first female to reach...</td>\n",
       "      <td>0</td>\n",
       "    </tr>\n",
       "    <tr>\n",
       "      <th>4</th>\n",
       "      <td>z133stly3kete3tly22petvwdpmghrlli</td>\n",
       "      <td>Analena López</td>\n",
       "      <td>2015-05-28T17:08:29.827000</td>\n",
       "      <td>shakira is best for worldcup﻿</td>\n",
       "      <td>0</td>\n",
       "    </tr>\n",
       "    <tr>\n",
       "      <th>...</th>\n",
       "      <td>...</td>\n",
       "      <td>...</td>\n",
       "      <td>...</td>\n",
       "      <td>...</td>\n",
       "      <td>...</td>\n",
       "    </tr>\n",
       "    <tr>\n",
       "      <th>365</th>\n",
       "      <td>_2viQ_Qnc6-bMSjqyL1NKj57ROicCSJV5SwTrw-RFFA</td>\n",
       "      <td>Katie Mettam</td>\n",
       "      <td>2013-07-13T13:27:39.441000</td>\n",
       "      <td>I love this song because we sing it at Camp al...</td>\n",
       "      <td>0</td>\n",
       "    </tr>\n",
       "    <tr>\n",
       "      <th>366</th>\n",
       "      <td>_2viQ_Qnc6-pY-1yR6K2FhmC5i48-WuNx5CumlHLDAI</td>\n",
       "      <td>Sabina Pearson-Smith</td>\n",
       "      <td>2013-07-13T13:14:30.021000</td>\n",
       "      <td>I love this song for two reasons: 1.it is abou...</td>\n",
       "      <td>0</td>\n",
       "    </tr>\n",
       "    <tr>\n",
       "      <th>367</th>\n",
       "      <td>_2viQ_Qnc6_k_n_Bse9zVhJP8tJReZpo8uM2uZfnzDs</td>\n",
       "      <td>jeffrey jules</td>\n",
       "      <td>2013-07-13T12:09:31.188000</td>\n",
       "      <td>wow</td>\n",
       "      <td>0</td>\n",
       "    </tr>\n",
       "    <tr>\n",
       "      <th>368</th>\n",
       "      <td>_2viQ_Qnc6_yBt8UGMWyg3vh0PulTqcqyQtdE7d4Fl0</td>\n",
       "      <td>Aishlin Maciel</td>\n",
       "      <td>2013-07-13T11:17:52.308000</td>\n",
       "      <td>Shakira u are so wiredo</td>\n",
       "      <td>0</td>\n",
       "    </tr>\n",
       "    <tr>\n",
       "      <th>369</th>\n",
       "      <td>_2viQ_Qnc685RPw1aSa1tfrIuHXRvAQ2rPT9R06KTqA</td>\n",
       "      <td>Latin Bosch</td>\n",
       "      <td>2013-07-12T22:33:27.916000</td>\n",
       "      <td>Shakira is the best dancer</td>\n",
       "      <td>0</td>\n",
       "    </tr>\n",
       "  </tbody>\n",
       "</table>\n",
       "<p>370 rows × 5 columns</p>\n",
       "</div>"
      ],
      "text/plain": [
       "                                      COMMENT_ID  \\\n",
       "0            z13lgffb5w3ddx1ul22qy1wxspy5cpkz504   \n",
       "1              z123dbgb0mqjfxbtz22ucjc5jvzcv3ykj   \n",
       "2          z12quxxp2vutflkxv04cihggzt2azl34pms0k   \n",
       "3              z12icv3ysqvlwth2c23eddlykyqut5z1h   \n",
       "4              z133stly3kete3tly22petvwdpmghrlli   \n",
       "..                                           ...   \n",
       "365  _2viQ_Qnc6-bMSjqyL1NKj57ROicCSJV5SwTrw-RFFA   \n",
       "366  _2viQ_Qnc6-pY-1yR6K2FhmC5i48-WuNx5CumlHLDAI   \n",
       "367  _2viQ_Qnc6_k_n_Bse9zVhJP8tJReZpo8uM2uZfnzDs   \n",
       "368  _2viQ_Qnc6_yBt8UGMWyg3vh0PulTqcqyQtdE7d4Fl0   \n",
       "369  _2viQ_Qnc685RPw1aSa1tfrIuHXRvAQ2rPT9R06KTqA   \n",
       "\n",
       "                                 AUTHOR                        DATE  \\\n",
       "0                            dharma pal  2015-05-29T02:30:18.971000   \n",
       "1                         Tiza Arellano  2015-05-29T00:14:48.748000   \n",
       "2    Prìñçeśś Âliś Łøvê Dømíñø Mâđiś™ ﻿  2015-05-28T21:00:08.607000   \n",
       "3                         Eric Gonzalez  2015-05-28T20:47:12.193000   \n",
       "4                         Analena López  2015-05-28T17:08:29.827000   \n",
       "..                                  ...                         ...   \n",
       "365                        Katie Mettam  2013-07-13T13:27:39.441000   \n",
       "366                Sabina Pearson-Smith  2013-07-13T13:14:30.021000   \n",
       "367                       jeffrey jules  2013-07-13T12:09:31.188000   \n",
       "368                      Aishlin Maciel  2013-07-13T11:17:52.308000   \n",
       "369                         Latin Bosch  2013-07-12T22:33:27.916000   \n",
       "\n",
       "                                               CONTENT  CLASS  \n",
       "0                                           Nice song﻿      0  \n",
       "1                                        I love song ﻿      0  \n",
       "2                                        I love song ﻿      0  \n",
       "3    860,000,000 lets make it first female to reach...      0  \n",
       "4                        shakira is best for worldcup﻿      0  \n",
       "..                                                 ...    ...  \n",
       "365  I love this song because we sing it at Camp al...      0  \n",
       "366  I love this song for two reasons: 1.it is abou...      0  \n",
       "367                                                wow      0  \n",
       "368                            Shakira u are so wiredo      0  \n",
       "369                         Shakira is the best dancer      0  \n",
       "\n",
       "[370 rows x 5 columns]"
      ]
     },
     "execution_count": 4,
     "metadata": {},
     "output_type": "execute_result"
    }
   ],
   "source": [
    "data"
   ]
  },
  {
   "cell_type": "markdown",
   "id": "4bb97a2b",
   "metadata": {},
   "source": [
    "# Cleaning data and translating it without any punctuation marks"
   ]
  },
  {
   "cell_type": "code",
   "execution_count": 5,
   "id": "4c26e692",
   "metadata": {},
   "outputs": [
    {
     "data": {
      "text/html": [
       "<div>\n",
       "<style scoped>\n",
       "    .dataframe tbody tr th:only-of-type {\n",
       "        vertical-align: middle;\n",
       "    }\n",
       "\n",
       "    .dataframe tbody tr th {\n",
       "        vertical-align: top;\n",
       "    }\n",
       "\n",
       "    .dataframe thead th {\n",
       "        text-align: right;\n",
       "    }\n",
       "</style>\n",
       "<table border=\"1\" class=\"dataframe\">\n",
       "  <thead>\n",
       "    <tr style=\"text-align: right;\">\n",
       "      <th></th>\n",
       "      <th>COMMENT_ID</th>\n",
       "      <th>AUTHOR</th>\n",
       "      <th>DATE</th>\n",
       "      <th>CONTENT</th>\n",
       "      <th>CLASS</th>\n",
       "    </tr>\n",
       "  </thead>\n",
       "  <tbody>\n",
       "    <tr>\n",
       "      <th>0</th>\n",
       "      <td>z13lgffb5w3ddx1ul22qy1wxspy5cpkz504</td>\n",
       "      <td>dharma pal</td>\n",
       "      <td>2015-05-29T02:30:18.971000</td>\n",
       "      <td>Nice song﻿</td>\n",
       "      <td>0</td>\n",
       "    </tr>\n",
       "    <tr>\n",
       "      <th>1</th>\n",
       "      <td>z123dbgb0mqjfxbtz22ucjc5jvzcv3ykj</td>\n",
       "      <td>Tiza Arellano</td>\n",
       "      <td>2015-05-29T00:14:48.748000</td>\n",
       "      <td>I love song ﻿</td>\n",
       "      <td>0</td>\n",
       "    </tr>\n",
       "    <tr>\n",
       "      <th>2</th>\n",
       "      <td>z12quxxp2vutflkxv04cihggzt2azl34pms0k</td>\n",
       "      <td>Prìñçeśś Âliś Łøvê Dømíñø Mâđiś™ ﻿</td>\n",
       "      <td>2015-05-28T21:00:08.607000</td>\n",
       "      <td>I love song ﻿</td>\n",
       "      <td>0</td>\n",
       "    </tr>\n",
       "    <tr>\n",
       "      <th>3</th>\n",
       "      <td>z12icv3ysqvlwth2c23eddlykyqut5z1h</td>\n",
       "      <td>Eric Gonzalez</td>\n",
       "      <td>2015-05-28T20:47:12.193000</td>\n",
       "      <td>860,000,000 lets make it first female to reach...</td>\n",
       "      <td>0</td>\n",
       "    </tr>\n",
       "    <tr>\n",
       "      <th>4</th>\n",
       "      <td>z133stly3kete3tly22petvwdpmghrlli</td>\n",
       "      <td>Analena López</td>\n",
       "      <td>2015-05-28T17:08:29.827000</td>\n",
       "      <td>shakira is best for worldcup﻿</td>\n",
       "      <td>0</td>\n",
       "    </tr>\n",
       "  </tbody>\n",
       "</table>\n",
       "</div>"
      ],
      "text/plain": [
       "                              COMMENT_ID                              AUTHOR  \\\n",
       "0    z13lgffb5w3ddx1ul22qy1wxspy5cpkz504                          dharma pal   \n",
       "1      z123dbgb0mqjfxbtz22ucjc5jvzcv3ykj                       Tiza Arellano   \n",
       "2  z12quxxp2vutflkxv04cihggzt2azl34pms0k  Prìñçeśś Âliś Łøvê Dømíñø Mâđiś™ ﻿   \n",
       "3      z12icv3ysqvlwth2c23eddlykyqut5z1h                       Eric Gonzalez   \n",
       "4      z133stly3kete3tly22petvwdpmghrlli                       Analena López   \n",
       "\n",
       "                         DATE  \\\n",
       "0  2015-05-29T02:30:18.971000   \n",
       "1  2015-05-29T00:14:48.748000   \n",
       "2  2015-05-28T21:00:08.607000   \n",
       "3  2015-05-28T20:47:12.193000   \n",
       "4  2015-05-28T17:08:29.827000   \n",
       "\n",
       "                                             CONTENT  CLASS  \n",
       "0                                         Nice song﻿      0  \n",
       "1                                      I love song ﻿      0  \n",
       "2                                      I love song ﻿      0  \n",
       "3  860,000,000 lets make it first female to reach...      0  \n",
       "4                      shakira is best for worldcup﻿      0  "
      ]
     },
     "execution_count": 5,
     "metadata": {},
     "output_type": "execute_result"
    }
   ],
   "source": [
    "data.head()"
   ]
  },
  {
   "cell_type": "code",
   "execution_count": 6,
   "id": "04dc1001",
   "metadata": {},
   "outputs": [],
   "source": [
    "data.drop(['COMMENT_ID', 'CLASS'], axis =1, inplace = True)"
   ]
  },
  {
   "cell_type": "code",
   "execution_count": 7,
   "id": "a6561f28",
   "metadata": {},
   "outputs": [
    {
     "data": {
      "text/html": [
       "<div>\n",
       "<style scoped>\n",
       "    .dataframe tbody tr th:only-of-type {\n",
       "        vertical-align: middle;\n",
       "    }\n",
       "\n",
       "    .dataframe tbody tr th {\n",
       "        vertical-align: top;\n",
       "    }\n",
       "\n",
       "    .dataframe thead th {\n",
       "        text-align: right;\n",
       "    }\n",
       "</style>\n",
       "<table border=\"1\" class=\"dataframe\">\n",
       "  <thead>\n",
       "    <tr style=\"text-align: right;\">\n",
       "      <th></th>\n",
       "      <th>AUTHOR</th>\n",
       "      <th>DATE</th>\n",
       "      <th>CONTENT</th>\n",
       "    </tr>\n",
       "  </thead>\n",
       "  <tbody>\n",
       "    <tr>\n",
       "      <th>0</th>\n",
       "      <td>dharma pal</td>\n",
       "      <td>2015-05-29T02:30:18.971000</td>\n",
       "      <td>Nice song﻿</td>\n",
       "    </tr>\n",
       "    <tr>\n",
       "      <th>1</th>\n",
       "      <td>Tiza Arellano</td>\n",
       "      <td>2015-05-29T00:14:48.748000</td>\n",
       "      <td>I love song ﻿</td>\n",
       "    </tr>\n",
       "    <tr>\n",
       "      <th>2</th>\n",
       "      <td>Prìñçeśś Âliś Łøvê Dømíñø Mâđiś™ ﻿</td>\n",
       "      <td>2015-05-28T21:00:08.607000</td>\n",
       "      <td>I love song ﻿</td>\n",
       "    </tr>\n",
       "    <tr>\n",
       "      <th>3</th>\n",
       "      <td>Eric Gonzalez</td>\n",
       "      <td>2015-05-28T20:47:12.193000</td>\n",
       "      <td>860,000,000 lets make it first female to reach...</td>\n",
       "    </tr>\n",
       "    <tr>\n",
       "      <th>4</th>\n",
       "      <td>Analena López</td>\n",
       "      <td>2015-05-28T17:08:29.827000</td>\n",
       "      <td>shakira is best for worldcup﻿</td>\n",
       "    </tr>\n",
       "    <tr>\n",
       "      <th>...</th>\n",
       "      <td>...</td>\n",
       "      <td>...</td>\n",
       "      <td>...</td>\n",
       "    </tr>\n",
       "    <tr>\n",
       "      <th>365</th>\n",
       "      <td>Katie Mettam</td>\n",
       "      <td>2013-07-13T13:27:39.441000</td>\n",
       "      <td>I love this song because we sing it at Camp al...</td>\n",
       "    </tr>\n",
       "    <tr>\n",
       "      <th>366</th>\n",
       "      <td>Sabina Pearson-Smith</td>\n",
       "      <td>2013-07-13T13:14:30.021000</td>\n",
       "      <td>I love this song for two reasons: 1.it is abou...</td>\n",
       "    </tr>\n",
       "    <tr>\n",
       "      <th>367</th>\n",
       "      <td>jeffrey jules</td>\n",
       "      <td>2013-07-13T12:09:31.188000</td>\n",
       "      <td>wow</td>\n",
       "    </tr>\n",
       "    <tr>\n",
       "      <th>368</th>\n",
       "      <td>Aishlin Maciel</td>\n",
       "      <td>2013-07-13T11:17:52.308000</td>\n",
       "      <td>Shakira u are so wiredo</td>\n",
       "    </tr>\n",
       "    <tr>\n",
       "      <th>369</th>\n",
       "      <td>Latin Bosch</td>\n",
       "      <td>2013-07-12T22:33:27.916000</td>\n",
       "      <td>Shakira is the best dancer</td>\n",
       "    </tr>\n",
       "  </tbody>\n",
       "</table>\n",
       "<p>370 rows × 3 columns</p>\n",
       "</div>"
      ],
      "text/plain": [
       "                                 AUTHOR                        DATE  \\\n",
       "0                            dharma pal  2015-05-29T02:30:18.971000   \n",
       "1                         Tiza Arellano  2015-05-29T00:14:48.748000   \n",
       "2    Prìñçeśś Âliś Łøvê Dømíñø Mâđiś™ ﻿  2015-05-28T21:00:08.607000   \n",
       "3                         Eric Gonzalez  2015-05-28T20:47:12.193000   \n",
       "4                         Analena López  2015-05-28T17:08:29.827000   \n",
       "..                                  ...                         ...   \n",
       "365                        Katie Mettam  2013-07-13T13:27:39.441000   \n",
       "366                Sabina Pearson-Smith  2013-07-13T13:14:30.021000   \n",
       "367                       jeffrey jules  2013-07-13T12:09:31.188000   \n",
       "368                      Aishlin Maciel  2013-07-13T11:17:52.308000   \n",
       "369                         Latin Bosch  2013-07-12T22:33:27.916000   \n",
       "\n",
       "                                               CONTENT  \n",
       "0                                           Nice song﻿  \n",
       "1                                        I love song ﻿  \n",
       "2                                        I love song ﻿  \n",
       "3    860,000,000 lets make it first female to reach...  \n",
       "4                        shakira is best for worldcup﻿  \n",
       "..                                                 ...  \n",
       "365  I love this song because we sing it at Camp al...  \n",
       "366  I love this song for two reasons: 1.it is abou...  \n",
       "367                                                wow  \n",
       "368                            Shakira u are so wiredo  \n",
       "369                         Shakira is the best dancer  \n",
       "\n",
       "[370 rows x 3 columns]"
      ]
     },
     "execution_count": 7,
     "metadata": {},
     "output_type": "execute_result"
    }
   ],
   "source": [
    "data"
   ]
  },
  {
   "cell_type": "code",
   "execution_count": 8,
   "id": "86cc591e",
   "metadata": {},
   "outputs": [
    {
     "data": {
      "text/plain": [
       "pandas.core.frame.DataFrame"
      ]
     },
     "execution_count": 8,
     "metadata": {},
     "output_type": "execute_result"
    }
   ],
   "source": [
    "type(data)"
   ]
  },
  {
   "cell_type": "code",
   "execution_count": 9,
   "id": "6739570a",
   "metadata": {},
   "outputs": [
    {
     "name": "stdout",
     "output_type": "stream",
     "text": [
      "<class 'pandas.core.frame.DataFrame'>\n",
      "RangeIndex: 370 entries, 0 to 369\n",
      "Data columns (total 3 columns):\n",
      " #   Column   Non-Null Count  Dtype \n",
      "---  ------   --------------  ----- \n",
      " 0   AUTHOR   370 non-null    object\n",
      " 1   DATE     370 non-null    object\n",
      " 2   CONTENT  370 non-null    object\n",
      "dtypes: object(3)\n",
      "memory usage: 8.8+ KB\n"
     ]
    }
   ],
   "source": [
    "data.info()"
   ]
  },
  {
   "cell_type": "code",
   "execution_count": 11,
   "id": "c45ef8ca",
   "metadata": {},
   "outputs": [],
   "source": [
    "data['CONTENT']=data['CONTENT'].str.lower()"
   ]
  },
  {
   "cell_type": "code",
   "execution_count": 12,
   "id": "f9c59ead",
   "metadata": {},
   "outputs": [
    {
     "data": {
      "text/plain": [
       "0                                             nice song﻿\n",
       "1                                          i love song ﻿\n",
       "2                                          i love song ﻿\n",
       "3      860,000,000 lets make it first female to reach...\n",
       "4                          shakira is best for worldcup﻿\n",
       "                             ...                        \n",
       "365    i love this song because we sing it at camp al...\n",
       "366    i love this song for two reasons: 1.it is abou...\n",
       "367                                                  wow\n",
       "368                              shakira u are so wiredo\n",
       "369                           shakira is the best dancer\n",
       "Name: CONTENT, Length: 370, dtype: object"
      ]
     },
     "execution_count": 12,
     "metadata": {},
     "output_type": "execute_result"
    }
   ],
   "source": [
    "data['CONTENT']"
   ]
  },
  {
   "cell_type": "code",
   "execution_count": 13,
   "id": "f7061c23",
   "metadata": {},
   "outputs": [
    {
     "data": {
      "text/plain": [
       "'!\"#$%&\\'()*+,-./:;<=>?@[\\\\]^_`{|}~'"
      ]
     },
     "execution_count": 13,
     "metadata": {},
     "output_type": "execute_result"
    }
   ],
   "source": [
    "str.punctuation"
   ]
  },
  {
   "cell_type": "code",
   "execution_count": 14,
   "id": "c5620b66",
   "metadata": {},
   "outputs": [],
   "source": [
    "content = data['CONTENT']"
   ]
  },
  {
   "cell_type": "code",
   "execution_count": 15,
   "id": "0463c78e",
   "metadata": {},
   "outputs": [
    {
     "data": {
      "text/plain": [
       "dtype('O')"
      ]
     },
     "execution_count": 15,
     "metadata": {},
     "output_type": "execute_result"
    }
   ],
   "source": [
    "content.dtype"
   ]
  },
  {
   "cell_type": "code",
   "execution_count": 16,
   "id": "b157e320",
   "metadata": {},
   "outputs": [
    {
     "data": {
      "text/plain": [
       "0                                             nice song﻿\n",
       "1                                          i love song ﻿\n",
       "2                                          i love song ﻿\n",
       "3      860,000,000 lets make it first female to reach...\n",
       "4                          shakira is best for worldcup﻿\n",
       "                             ...                        \n",
       "365    i love this song because we sing it at camp al...\n",
       "366    i love this song for two reasons: 1.it is abou...\n",
       "367                                                  wow\n",
       "368                              shakira u are so wiredo\n",
       "369                           shakira is the best dancer\n",
       "Name: CONTENT, Length: 370, dtype: object"
      ]
     },
     "execution_count": 16,
     "metadata": {},
     "output_type": "execute_result"
    }
   ],
   "source": [
    "content"
   ]
  },
  {
   "cell_type": "code",
   "execution_count": 17,
   "id": "415298da",
   "metadata": {},
   "outputs": [],
   "source": [
    "def remove_punctuations(content):\n",
    "    for punctuation in str.punctuation:\n",
    "        content = content.replace(punctuation, '')\n",
    "    return content"
   ]
  },
  {
   "cell_type": "code",
   "execution_count": 18,
   "id": "4d445cb2",
   "metadata": {},
   "outputs": [],
   "source": [
    "data['CONTENT'] = data['CONTENT'].apply(remove_punctuations)"
   ]
  },
  {
   "cell_type": "code",
   "execution_count": 19,
   "id": "0317fa43",
   "metadata": {},
   "outputs": [
    {
     "data": {
      "text/html": [
       "<div>\n",
       "<style scoped>\n",
       "    .dataframe tbody tr th:only-of-type {\n",
       "        vertical-align: middle;\n",
       "    }\n",
       "\n",
       "    .dataframe tbody tr th {\n",
       "        vertical-align: top;\n",
       "    }\n",
       "\n",
       "    .dataframe thead th {\n",
       "        text-align: right;\n",
       "    }\n",
       "</style>\n",
       "<table border=\"1\" class=\"dataframe\">\n",
       "  <thead>\n",
       "    <tr style=\"text-align: right;\">\n",
       "      <th></th>\n",
       "      <th>AUTHOR</th>\n",
       "      <th>DATE</th>\n",
       "      <th>CONTENT</th>\n",
       "    </tr>\n",
       "  </thead>\n",
       "  <tbody>\n",
       "    <tr>\n",
       "      <th>0</th>\n",
       "      <td>dharma pal</td>\n",
       "      <td>2015-05-29T02:30:18.971000</td>\n",
       "      <td>nice song﻿</td>\n",
       "    </tr>\n",
       "    <tr>\n",
       "      <th>1</th>\n",
       "      <td>Tiza Arellano</td>\n",
       "      <td>2015-05-29T00:14:48.748000</td>\n",
       "      <td>i love song ﻿</td>\n",
       "    </tr>\n",
       "    <tr>\n",
       "      <th>2</th>\n",
       "      <td>Prìñçeśś Âliś Łøvê Dømíñø Mâđiś™ ﻿</td>\n",
       "      <td>2015-05-28T21:00:08.607000</td>\n",
       "      <td>i love song ﻿</td>\n",
       "    </tr>\n",
       "    <tr>\n",
       "      <th>3</th>\n",
       "      <td>Eric Gonzalez</td>\n",
       "      <td>2015-05-28T20:47:12.193000</td>\n",
       "      <td>860000000 lets make it first female to reach o...</td>\n",
       "    </tr>\n",
       "    <tr>\n",
       "      <th>4</th>\n",
       "      <td>Analena López</td>\n",
       "      <td>2015-05-28T17:08:29.827000</td>\n",
       "      <td>shakira is best for worldcup﻿</td>\n",
       "    </tr>\n",
       "    <tr>\n",
       "      <th>...</th>\n",
       "      <td>...</td>\n",
       "      <td>...</td>\n",
       "      <td>...</td>\n",
       "    </tr>\n",
       "    <tr>\n",
       "      <th>365</th>\n",
       "      <td>Katie Mettam</td>\n",
       "      <td>2013-07-13T13:27:39.441000</td>\n",
       "      <td>i love this song because we sing it at camp al...</td>\n",
       "    </tr>\n",
       "    <tr>\n",
       "      <th>366</th>\n",
       "      <td>Sabina Pearson-Smith</td>\n",
       "      <td>2013-07-13T13:14:30.021000</td>\n",
       "      <td>i love this song for two reasons 1it is about ...</td>\n",
       "    </tr>\n",
       "    <tr>\n",
       "      <th>367</th>\n",
       "      <td>jeffrey jules</td>\n",
       "      <td>2013-07-13T12:09:31.188000</td>\n",
       "      <td>wow</td>\n",
       "    </tr>\n",
       "    <tr>\n",
       "      <th>368</th>\n",
       "      <td>Aishlin Maciel</td>\n",
       "      <td>2013-07-13T11:17:52.308000</td>\n",
       "      <td>shakira u are so wiredo</td>\n",
       "    </tr>\n",
       "    <tr>\n",
       "      <th>369</th>\n",
       "      <td>Latin Bosch</td>\n",
       "      <td>2013-07-12T22:33:27.916000</td>\n",
       "      <td>shakira is the best dancer</td>\n",
       "    </tr>\n",
       "  </tbody>\n",
       "</table>\n",
       "<p>370 rows × 3 columns</p>\n",
       "</div>"
      ],
      "text/plain": [
       "                                 AUTHOR                        DATE  \\\n",
       "0                            dharma pal  2015-05-29T02:30:18.971000   \n",
       "1                         Tiza Arellano  2015-05-29T00:14:48.748000   \n",
       "2    Prìñçeśś Âliś Łøvê Dømíñø Mâđiś™ ﻿  2015-05-28T21:00:08.607000   \n",
       "3                         Eric Gonzalez  2015-05-28T20:47:12.193000   \n",
       "4                         Analena López  2015-05-28T17:08:29.827000   \n",
       "..                                  ...                         ...   \n",
       "365                        Katie Mettam  2013-07-13T13:27:39.441000   \n",
       "366                Sabina Pearson-Smith  2013-07-13T13:14:30.021000   \n",
       "367                       jeffrey jules  2013-07-13T12:09:31.188000   \n",
       "368                      Aishlin Maciel  2013-07-13T11:17:52.308000   \n",
       "369                         Latin Bosch  2013-07-12T22:33:27.916000   \n",
       "\n",
       "                                               CONTENT  \n",
       "0                                           nice song﻿  \n",
       "1                                        i love song ﻿  \n",
       "2                                        i love song ﻿  \n",
       "3    860000000 lets make it first female to reach o...  \n",
       "4                        shakira is best for worldcup﻿  \n",
       "..                                                 ...  \n",
       "365  i love this song because we sing it at camp al...  \n",
       "366  i love this song for two reasons 1it is about ...  \n",
       "367                                                wow  \n",
       "368                            shakira u are so wiredo  \n",
       "369                         shakira is the best dancer  \n",
       "\n",
       "[370 rows x 3 columns]"
      ]
     },
     "execution_count": 19,
     "metadata": {},
     "output_type": "execute_result"
    }
   ],
   "source": [
    "data"
   ]
  },
  {
   "cell_type": "markdown",
   "id": "db8c2203",
   "metadata": {},
   "source": [
    "# Breaking Sentences to Words (Tokenization)"
   ]
  },
  {
   "cell_type": "code",
   "execution_count": 20,
   "id": "c44167bd",
   "metadata": {},
   "outputs": [],
   "source": [
    "content_token = data['CONTENT']"
   ]
  },
  {
   "cell_type": "code",
   "execution_count": 21,
   "id": "5f79ff04",
   "metadata": {},
   "outputs": [],
   "source": [
    "content_token = content_token.apply(word_tokenize)"
   ]
  },
  {
   "cell_type": "code",
   "execution_count": 22,
   "id": "a1ad085f",
   "metadata": {},
   "outputs": [
    {
     "data": {
      "text/plain": [
       "dtype('O')"
      ]
     },
     "execution_count": 22,
     "metadata": {},
     "output_type": "execute_result"
    }
   ],
   "source": [
    "content_token.dtype"
   ]
  },
  {
   "cell_type": "code",
   "execution_count": 23,
   "id": "ff5ce520",
   "metadata": {},
   "outputs": [
    {
     "data": {
      "text/plain": [
       "0                                          [nice, song﻿]\n",
       "1                                     [i, love, song, ﻿]\n",
       "2                                     [i, love, song, ﻿]\n",
       "3      [860000000, lets, make, it, first, female, to,...\n",
       "4                    [shakira, is, best, for, worldcup﻿]\n",
       "                             ...                        \n",
       "365    [i, love, this, song, because, we, sing, it, a...\n",
       "366    [i, love, this, song, for, two, reasons, 1it, ...\n",
       "367                                                [wow]\n",
       "368                        [shakira, u, are, so, wiredo]\n",
       "369                     [shakira, is, the, best, dancer]\n",
       "Name: CONTENT, Length: 370, dtype: object"
      ]
     },
     "execution_count": 23,
     "metadata": {},
     "output_type": "execute_result"
    }
   ],
   "source": [
    "content_token"
   ]
  },
  {
   "cell_type": "markdown",
   "id": "d1481523",
   "metadata": {},
   "source": [
    "# Removing the stop words"
   ]
  },
  {
   "cell_type": "code",
   "execution_count": 24,
   "id": "b82e24fa",
   "metadata": {},
   "outputs": [
    {
     "data": {
      "text/plain": [
       "0                                          [nice, song﻿]\n",
       "1                                     [i, love, song, ﻿]\n",
       "2                                     [i, love, song, ﻿]\n",
       "3      [860000000, lets, make, it, first, female, to,...\n",
       "4                    [shakira, is, best, for, worldcup﻿]\n",
       "                             ...                        \n",
       "365    [i, love, this, song, because, we, sing, it, a...\n",
       "366    [i, love, this, song, for, two, reasons, 1it, ...\n",
       "367                                                [wow]\n",
       "368                        [shakira, u, are, so, wiredo]\n",
       "369                     [shakira, is, the, best, dancer]\n",
       "Name: CONTENT, Length: 370, dtype: object"
      ]
     },
     "execution_count": 24,
     "metadata": {},
     "output_type": "execute_result"
    }
   ],
   "source": [
    "content_token"
   ]
  },
  {
   "cell_type": "code",
   "execution_count": 25,
   "id": "6f537bc7",
   "metadata": {},
   "outputs": [],
   "source": [
    "## Changing the list into tuple since hash function does not work with list\n",
    "\n",
    "content_tuple = tuple([j] for j in content)"
   ]
  },
  {
   "cell_type": "code",
   "execution_count": 26,
   "id": "e2fd1aab",
   "metadata": {},
   "outputs": [],
   "source": [
    "stop_words = stopwords.words('english')"
   ]
  },
  {
   "cell_type": "code",
   "execution_count": 27,
   "id": "4aa05eb1",
   "metadata": {},
   "outputs": [
    {
     "data": {
      "text/plain": [
       "['i',\n",
       " 'me',\n",
       " 'my',\n",
       " 'myself',\n",
       " 'we',\n",
       " 'our',\n",
       " 'ours',\n",
       " 'ourselves',\n",
       " 'you',\n",
       " \"you're\",\n",
       " \"you've\",\n",
       " \"you'll\",\n",
       " \"you'd\",\n",
       " 'your',\n",
       " 'yours',\n",
       " 'yourself',\n",
       " 'yourselves',\n",
       " 'he',\n",
       " 'him',\n",
       " 'his',\n",
       " 'himself',\n",
       " 'she',\n",
       " \"she's\",\n",
       " 'her',\n",
       " 'hers',\n",
       " 'herself',\n",
       " 'it',\n",
       " \"it's\",\n",
       " 'its',\n",
       " 'itself',\n",
       " 'they',\n",
       " 'them',\n",
       " 'their',\n",
       " 'theirs',\n",
       " 'themselves',\n",
       " 'what',\n",
       " 'which',\n",
       " 'who',\n",
       " 'whom',\n",
       " 'this',\n",
       " 'that',\n",
       " \"that'll\",\n",
       " 'these',\n",
       " 'those',\n",
       " 'am',\n",
       " 'is',\n",
       " 'are',\n",
       " 'was',\n",
       " 'were',\n",
       " 'be',\n",
       " 'been',\n",
       " 'being',\n",
       " 'have',\n",
       " 'has',\n",
       " 'had',\n",
       " 'having',\n",
       " 'do',\n",
       " 'does',\n",
       " 'did',\n",
       " 'doing',\n",
       " 'a',\n",
       " 'an',\n",
       " 'the',\n",
       " 'and',\n",
       " 'but',\n",
       " 'if',\n",
       " 'or',\n",
       " 'because',\n",
       " 'as',\n",
       " 'until',\n",
       " 'while',\n",
       " 'of',\n",
       " 'at',\n",
       " 'by',\n",
       " 'for',\n",
       " 'with',\n",
       " 'about',\n",
       " 'against',\n",
       " 'between',\n",
       " 'into',\n",
       " 'through',\n",
       " 'during',\n",
       " 'before',\n",
       " 'after',\n",
       " 'above',\n",
       " 'below',\n",
       " 'to',\n",
       " 'from',\n",
       " 'up',\n",
       " 'down',\n",
       " 'in',\n",
       " 'out',\n",
       " 'on',\n",
       " 'off',\n",
       " 'over',\n",
       " 'under',\n",
       " 'again',\n",
       " 'further',\n",
       " 'then',\n",
       " 'once',\n",
       " 'here',\n",
       " 'there',\n",
       " 'when',\n",
       " 'where',\n",
       " 'why',\n",
       " 'how',\n",
       " 'all',\n",
       " 'any',\n",
       " 'both',\n",
       " 'each',\n",
       " 'few',\n",
       " 'more',\n",
       " 'most',\n",
       " 'other',\n",
       " 'some',\n",
       " 'such',\n",
       " 'no',\n",
       " 'nor',\n",
       " 'not',\n",
       " 'only',\n",
       " 'own',\n",
       " 'same',\n",
       " 'so',\n",
       " 'than',\n",
       " 'too',\n",
       " 'very',\n",
       " 's',\n",
       " 't',\n",
       " 'can',\n",
       " 'will',\n",
       " 'just',\n",
       " 'don',\n",
       " \"don't\",\n",
       " 'should',\n",
       " \"should've\",\n",
       " 'now',\n",
       " 'd',\n",
       " 'll',\n",
       " 'm',\n",
       " 'o',\n",
       " 're',\n",
       " 've',\n",
       " 'y',\n",
       " 'ain',\n",
       " 'aren',\n",
       " \"aren't\",\n",
       " 'couldn',\n",
       " \"couldn't\",\n",
       " 'didn',\n",
       " \"didn't\",\n",
       " 'doesn',\n",
       " \"doesn't\",\n",
       " 'hadn',\n",
       " \"hadn't\",\n",
       " 'hasn',\n",
       " \"hasn't\",\n",
       " 'haven',\n",
       " \"haven't\",\n",
       " 'isn',\n",
       " \"isn't\",\n",
       " 'ma',\n",
       " 'mightn',\n",
       " \"mightn't\",\n",
       " 'mustn',\n",
       " \"mustn't\",\n",
       " 'needn',\n",
       " \"needn't\",\n",
       " 'shan',\n",
       " \"shan't\",\n",
       " 'shouldn',\n",
       " \"shouldn't\",\n",
       " 'wasn',\n",
       " \"wasn't\",\n",
       " 'weren',\n",
       " \"weren't\",\n",
       " 'won',\n",
       " \"won't\",\n",
       " 'wouldn',\n",
       " \"wouldn't\"]"
      ]
     },
     "execution_count": 27,
     "metadata": {},
     "output_type": "execute_result"
    }
   ],
   "source": [
    "stop_words"
   ]
  },
  {
   "cell_type": "code",
   "execution_count": 28,
   "id": "60091b88",
   "metadata": {},
   "outputs": [],
   "source": [
    "final_content = []"
   ]
  },
  {
   "cell_type": "code",
   "execution_count": 29,
   "id": "2e442afa",
   "metadata": {},
   "outputs": [
    {
     "name": "stdout",
     "output_type": "stream",
     "text": [
      "['nice', 'song\\ufeff', 'love', 'song', '\\ufeff', 'love', 'song', '\\ufeff', '860000000', 'lets', 'make', 'first', 'female', 'reach', 'one', 'billion', 'share', 'replay', '\\ufeff', 'shakira', 'best', 'worldcup\\ufeff', 'best', 'world', 'cup', 'song', 'ever\\ufeff', 'love\\ufeff', 'see', 'song', 'open', 'google', 'type', 'shakira', 'guruofmovie\\ufeff', 'awesome', '\\ufeff', 'like', 'shakira\\ufeff', 'shakira', 'waka', 'waka', 'br', 'love', 'song\\ufeff', 'many', 'disliked😯\\ufeff', 'don39t', 'think', 'song', 'ever', 'get', 'old', '\\ufeff', 'love', 'song\\ufeff', 'wery', 'good\\ufeff', 'every', 'time', 'hear', 'song', 'think', 'iniesta39s', 'goal', 'netherlands\\ufeff', 'whose', 'watching', '2015', 'hi5\\ufeff', 'love', 'song', 'much', 'lt3br', 'keep', 'em39', 'coming\\ufeff', 'love', 'song', 'thumsb', 'you\\ufeff', 'waka', 'best', 'one\\ufeff', '5', 'years', 'later', 'still', 'love', 'song', 'br', 'axy665\\ufeff', 'like\\ufeff', 'check', 'playlist', 'youtube\\ufeff', 'voice', 'sounds', 'weird', 'plus', 'she39s', 'cute', 'blonde\\ufeff', 'many', 'dislikes', 'song', 'awesome', 'sounds', 'like', 'must', 'stop', 'racists', 'could', 'would', 'like', '1000000000', 'times\\ufeff', 'nice', 'love', 'itttttttt', 'wurkkkkkkkkkkkkkkkkkkkkkkkkkkkkkkkkkkkkkkkkkkkkkkkkkkkkkkkkkkkkkkkkkkkkkkkkkkkkkkkkkkkkkkkkkkkkkkkkkkkkk\\ufeff', 'still', 'watching', '2015\\ufeff', 'shakira', 'favourite', 'singer', 'wooooo\\ufeff', 'remember', 'song', 'like\\ufeff', 'whose', 'watching', '2015', 'like\\ufeff', 'support', 'fight', '4th', 'amendment', 'right', 'privacy', 'home', 'stop', 'nsa', 'spying', 'americans', 'un', 'patriot', 'act', 'renewal', 'rand', 'paul', 'spent', '105', 'hours', 'senate', 'floor', 'protest', 'filibuster', 'fighting', 'constitution', 'nation', 'founded', 'join', 'fight', 'rand', 'paul', 'dot', 'com', 'spread', 'word', 'someone', 'cares', 'nation', 'email', 'senators', 'congress', 'men', 'women', 'tell', 'support', 'rand', 'tell', 'news', 'support', 'rand', 'senator', 'rand', 'paul', 'hrefhttpwwwyoutubecomwatchvprpeedmmmq0ampt1m00s100a', 'passed', 'saturday', 'morning', 'fighting', 'constitution', 'buy', 'postponing', 'vote', 'week', 'constitution', 'matters', 'join', 'rand', 'fight', 'protect', 'hrefhttpithtithta', 'privacy', 'home', 'business', 'senator', 'rand', 'paul', 'hrefhttpwwwyoutubecomwatchvprpeedmmmq0ampt1m00s100a', 'passed', 'saturday', 'morning', 'fighting', 'constitution', 'buy', 'postponing', 'vote', 'week', 'constitution', 'matters', 'us', 'help', 'rand', 'protect', 'joining', 'fright', 'it\\ufeff', 'best', 'song', 'world\\ufeff', 'beautiful', 'good', 'song\\ufeff', 'she39s', 'awesome', 'entertainer', 'pretty', 'lt3', 'shakira\\ufeff', 'check', 'video', 'youtube\\ufeff', 'love', 'song\\ufeff', 'love', 'song', 'soccer', 'team', 'made', 'cd', 'couch', 'song', 'it\\ufeff', 'fave', 'song\\ufeff', 'watching', '2015\\ufeff', 'felt', 'old', 'realized', 'song', '5', 'years', 'old\\ufeff', 'love', 'shakira\\ufeff', 'one', 'best', 'song', 'time\\ufeff', 'really', 'madly', 'love', 'woman\\ufeff', 'totally', 'love', 'song', 'absolutely', 'fantastic', 'love', 'ya', 'shakira\\ufeff', 'im', 'still', 'watching', '2015\\ufeff', 'song', 'sad\\ufeff', 'goood\\ufeff', 'best', 'fifa', 'world', 'cup', 'song', 'sure\\ufeff', 'nice', 'vídeo', 'shakira', 'good\\ufeff', 'coby', 'usl', 'past', 'br', 'hrefhttpadflyhttpadflya', '1hmvtxbr', 'delete', 'space', 'y\\ufeff', 'see', 'thisbr', 'hrefhttpadflyhttpadflya', '1hmvtx\\ufeff', 'waka', 'waka\\ufeff', 'beautiful', 'american\\ufeff', 'thumbs', 'watching', '2015\\ufeff', 'ilovethissong\\ufeff', 'subscribe', 'please', 'i39ll', 'promise', 'i39ll', 'sub', 'back\\ufeff', 'lamest', 'world', 'cup', 'song', 'ever', 'time', 'africa', 'mean', 'africa', 'wasn39t', 'live', 'aid', 'event', 'something', 'made', 'seem', 'like', 'charity', 'case', 'instead', 'proud', 'moment', 'ricky', 'martin', 'needed', 'smh\\ufeff', 'friend', 'sam', 'loves', 'song😊😊😊😊😊😊😊😊😊😊😊😊😊😊😊😊😊😊😊😊😊😊😊😊😊😊😊😊😊😊😊😊😊😊😊😊😊😊😊😊😊😊😊😊😊😊\\ufeff', 'check', 'video', 'youtube\\ufeff', 'love', 'you\\ufeff', 'help', 'shakira', 'become', 'first', 'female', 'hit', '1billiom', 'views', 'i39ve', 'decided', 'watch', 'video', 'least', 'one', 'day', 'everyday', 'shakifans', 'r', 'close', 'hit', 'replay', 'button', '\\ufeff', 'ilove', 'shakira', '\\ufeff', 'cool', 'best', 'song', 'ever', '\\ufeff', 'omg', 'listen', 'soo', 'good', 'd\\ufeff', 'uncle', 'said', 'stop', 'smoking', 'comment', 'gets', '500', 'likes', 'please', 'like', 'comment', 'thanks\\ufeff', 'nice', 'song\\ufeff', 'waka', 'waka\\ufeff', 'super', 'music\\ufeff', 'could', '108k', 'people', 'dislike', 'song', 'video\\ufeff', 'love', 'it💜\\ufeff', 'swear', 'shakira', 'keeps', 'getting', 'gorgeous', 'definitely', 'looks', 'gorgeous', 'hair', 'way', 'super', 'curly\\ufeff', 'youtube', 'comments', 'likebr', '5', 'years', 'ago', '\\ufeff', 'pisses', 'bit', 'blank', 'space', 'views', '868', 'mio', 'meh', '\\ufeff', 'best♣♥\\ufeff', 'love', 'p\\ufeff', 'love', 'shakira', '❤🎵🎶🎼🎸\\ufeff', 'song', 'special', 'song', 'africa', 'african', '\\ufeff', 'lt3', 'song', 'muchshakira', 'really', 'good', 'artist\\ufeff', 'love', 'shakirabr', '❤❤❤❤\\ufeff', 'definitley', 'song', '2010', 'im', 'listening', 'gypsy', 'shakira', 'rocksbr', 'span', 'classproflinkwrapperspan', 'classproflinkprefixspana', 'classproflink', 'hrefhttpsplusgooglecom101721377578919894134', 'oid101721377578919894134shakiravevoaspan\\ufeff', 'remember', 'torunament', 'like', 'today\\ufeff', 'thank', 'please', 'give', 'email', '\\ufeff', 'beautiful\\ufeff', 'like\\ufeff', 'shakira', 'beautiful', 'lovely', 'lively', 'love', 'you\\ufeff', 'great\\ufeff', 'best', 'world', 'cup', 'song\\ufeff', 'fuck', 'best', 'ever', '0687119038', 'nummber', 'patrik', 'kluivert', 'son', 'share', '\\ufeff', 'song', 'beauty', 'heard', '6', 'years', 'old', 'still', 'love', 'it\\ufeff', 'nice', 'song\\ufeff', 'waka', 'waka\\ufeff', 'oh', 'god', 'go', '1', 'billion', 'replay', 'love', 'shakira\\ufeff', 'love', 'her\\ufeff', 'love', 'song', 'ampi', 'love', 'shakiralt333♡♡♡♡♡♡♡♡♡♡♡《33☆☆☆\\ufeff', 'yea', 'stil', 'best', 'wk', 'song', 'everbr', 'thumbs', 'think', 'samebr', '\\ufeff', 'likedbr', '\\ufeff', 'like', 'song', '\\ufeff', 'like', '\\ufeff', 'waka', 'waka', '\\ufeff', 'amazing', 'song\\ufeff', 'cool', 'song', '\\ufeff', 'love', 'u', 'shakira\\ufeff', 'waka', 'waka', '\\ufeff', 'song', 'sucks\\ufeff', 'lol', 'love', 'song\\ufeff', 'shakira\\ufeff', 'subscribe', 'channel', 'recording', 'fifa', '15', 'goals', 'watch', 'd\\ufeff', 'wow5', 'yearsbr', '\\ufeff', 'subscribe', 'wil', 'subscribe', 'back\\ufeff', 'best', 'singer\\ufeff', '5', 'years', 'soon\\ufeff', 'like\\ufeff', 'wanderfol', 'love', 'miusic\\ufeff', 'waka', 'waka\\ufeff', 'best', 'song', 'ever', 'x3333333333\\ufeff', 'pleasant', 'hear', 'haha', 'good\\ufeff', 'love\\ufeff', 'wow', 'waka', 'waka', 'eh', 'eh\\ufeff', 'cutie', 'girl', 'beautiful', 'song', 'love', 'shkira\\ufeff', 'believe', 'soccer', 'promotes', 'terrorism', 'bad', 'choice', 'shakira\\ufeff', 'loved', 'song', 'teenage', 'years\\ufeff', 'lip', 'synch', 'terrible\\ufeff', 'shakira', 'different', 'happy', 'time', 'spending', 'africa', 'br', 'dance', 'sing', 'speaks', '4', 'languages\\ufeff', 'gusttavo', 'lima', 'você', 'não', 'conhece', 'br', 'check', 'out\\ufeff', 'best', 'world', 'cup', 'offical', 'song\\ufeff', '5', 'years', 'ago', 'damn', '\\ufeff', 'nice', 'help', 'shakira39s', 'waka', 'waka', 'first', 'song', 'female', 'artist', 'reach', '1', 'billion', 'viewsbr', 'dark', 'horse', 'ahead', 'roughly', '100', 'million', 'views', 'roar', '50', 'million', 'viewsbr', 'hrefhttpswwwyoutubecomwatchvprpeedmmmq0httpswwwyoutubecomwatchvprpeedmmmq0a\\ufeff', 'like', 'me\\ufeff', 'shakira', 'song', 'waka', 'waka\\ufeff', 'underrated', 'betterbr', 'katy', 'perry', 'saying', 'katy', 'bad', 'meaning', 'songs', 'shakira', 'hasbr', 'meaningful', 'songs', 'songs', 'bring', 'memories', 'vibe39s', 'miss', 'br', '\\ufeff', 'love', 'song', 'expect', 'world', 'cup', '\\ufeff', 'good', 'times', '\\ufeff', 'makes', 'happy', 'instantly', 'makes', 'forgot', 'everything', 'bad', 'happening\\ufeff', 'love', 'song', 'much', 'one', 'faves', 'xxx\\ufeff', 'hi', 'nice', 'song', 'shakira', 'sorry', 'bad', 'brazilian\\ufeff', 'best', 'song', 'go', 'shaki', 'd\\ufeff', 'shit', 'sooooo', 'autotuned\\ufeff', 'stil', 'lisening', '\\ufeff', 'sexy', 'shakira\\ufeff', 'love', 'shakiria\\ufeff', 'aunt', 'love', 'song\\ufeff', 'subscribed', 'itbr', '\\ufeff', 'check', 'playlist', 'youtubebr', '\\ufeff', 'top', 'three', 'shakira', 'songs', 'choice', 'br', 'br', '1', 'waka', 'waka', 'it39s', 'time', 'africabr', 'br', '2', 'can39t', 'remember', 'forget', 'br', 'br', '3', 'empirebr', 'br', 'like', 'comment', 'u', 'like', 'shakira', '\\ufeff', 'check', 'video', 'youtube\\ufeff', 'check', 'playlist', 'youtubecentral', '\\ufeff', 'could', 'take', 'time', 'amp', 'spare', 'min', 'read', 'thank', 'br', 'br', 'im', 'rapper', 'we39re', 'gon', 'na', 'honest', 'theres', 'thousands', 'maybe', 'even', 'millionsbr', 'br', 'world', 'many', 'ambition', 'dedication', 'amp', 'passionbr', 'br', 'don39t', 'money', 'huge', 'youtube', 'advertisements', 'incredible', 'music', 'videosbr', 'br', 'im', 'left', 'comments', 'expose', 'musicbr', 'br', 'could', 'take', 'moment', 'give', 'chance', 'ill', 'make', 'believerbr', 'br', 'would', 'love', 'nothing', 'loyal', 'following', 'youtube', 'anyone', 'br', 'br', 'reads', 'could', 'press', 'quotthumbs', 'upquot', 'others', 'see', 'itbr', 'br', 'help', 'push', 'closer', 'dream', 'thank', 'you\\ufeff', 'please', 'visit', 'channel\\ufeff', 'pleas', 'subscribe', 'channel', 'gamezzmta\\ufeff', 'pleas', 'subscribe', 'channel\\ufeff', 'pleas', 'subscribe', 'gamezz', 'mta', 'channelbr', '\\ufeff', 'cool', 'song', 'check', 'animal', 'trafficking', 'petitionbr', 'hrefhttpwwwthepetitionsitecom387433550stopanimaltraffickingcidheaderclickhttpwwwthepetitionsitecom387433550stopanimaltraffickingcidheaderclicka\\ufeff', 'check', 'video', 'youtube', '\\ufeff', 'subscribe', 'win', 'capbr', '☆☆☆☆☆\\ufeff', 'check', 'playlist', 'youtube\\ufeff', 'hey', 'guys', 'love', 'check', 'girl', 'name', 'cause', 'knows', 'dance', 'search', 'ej', 'ba', 'dancing\\ufeff', 'want', 'win', 'money', 'hopme', 'click', 'hrefhttpswwwpaidvertscomrefsihaam01httpswwwpaidvertscomrefsihaam01a', 'it39s', 'work', '100100\\ufeff', 'brazil', 'please', 'subscribe', 'channel', 'love', 'all\\ufeff', 'could', 'spanish', 'people', 'understand', 'thisbr', 'br', 'way39s', 'subscribe', 'brake', 'thingsbr', 'br', '\\ufeff', 'pleassssssssssssssss', 'subscribeeeeeeeeee', 'channnnnnelll', 'plzz\\ufeff', 'check', 'video', 'youtube\\ufeff', 'new', 'way', 'make', 'money', 'easily', 'spending', '20', 'minutes', 'daily', 'gt', 'hrefhttpswwwpaidvertscomrefmarius1533httpswwwpaidvertscomrefmarius1533a\\ufeff', 'beautiful', 'songs', 'please', 'subscribe\\ufeff', 'channel', 'get', '500', 'subscribers', 'make', 'happen', 'd\\ufeff', 'really', 'love', 'watching', 'football', 'also', '’', 'started', 'making', 'income', 'financial', 'risk', 'acquiring', 'bonus', 'deals', '’', 'weird', 'technique', 'wager', 'something', 'one', 'bookmakers', 'bet', 'betfair', 'secure', 'bonus', 'income', 'chap', 'named', 'jim', 'vanstone', 'finding', 'wagers', 'free', 'website', 'vanstone', 'secrets', 'google', '’', 'made', '500', 'quid', 'thus', 'far', 'costfree', 'guess', 'bookies', 'pay', 'obtain', 'new', 'consumers', 'yet', 'actually', 'works', 'many', 'subscribers', 'compared', 'million', 'absolutely', 'adore', 'watching', 'football', 'plus', '’', 'started', 'earning', 'income', 'risk', 'claiming', 'bonus', 'deals', '’', 'weird', 'technique', 'put', 'money', 'something', 'one', 'bookmakers', 'put', 'money', 'betfair', 'acquire', 'bonus', 'income', 'lad', 'named', 'jim', 'vanstone', 'selecting', 'wagers', 'free', 'website', 'vanstone', 'secrets', 'google', 'generated', '600', 'quid', 'far', '’', 'free', 'assume', 'bookmakers', 'pay', 'get', 'new', 'men', 'women', 'succeeds', 'hahahahah', '♥♥♥♥', 'like', 'vines', 'subscribe', 'daily', 'vines', 'hi', 'heard', 'dribbleproshot', 'search', 'google', 'web', 'site', 'watch', 'smart', 'free', 'video', 'featuring', 'best', 'way', 'significantly', 'boost', 'football', 'aka', 'soccer', 'skills', 'time', 'turned', 'nick', 'much', 'better', 'football', 'soccer', 'playerhis', 'team', 'mates', 'definitily', 'amazed', 'hope', 'help', 'also', 'hey', 'tried', 'quotdribbleproshotquot', 'yet', 'search', 'google', 'website', 'find', 'useful', 'free', 'video', 'demonstrating', 'right', 'way', 'enormously', 'improve', 'soccer', 'football', 'skills', 'time', 'transformed', 'fausto', 'substantially', 'better', 'footballsoccer', 'playerto', 'amazement', 'team', 'mates', 'hopefully', 'works', 'still', 'amazing', 'song', 'french', 'kpop', 'parody', 'please', 'come', 'channel', 'watch', 'share', 'suscribe', 'comment', 'thanks', 'subscribe', 'feed', 'subscribe', 'daily', 'vines', 'hey', 'guys', 'whats', 'found', 'app', 'lets', 'get', 'free', 'gift', 'card', 'vouchers', 'like', 'psn', 'cardsxbox', 'live', 'cards', 'even', 'amazon', 'gift', 'cards', 'free', 'simply', 'download', 'app', 'app', 'store', 'called', 'juno', 'wallet', 'sign', 'app', 'complete', 'surveys', 'download', 'free', 'apps', 'get', 'money', 'like', '10', 'cents', 'also', 'type', 'code', 'im2458444', 'also', 'start', '025', 'free', 'guys', 'check', 'extraordinary', 'website', 'called', 'firepacom', 'make', 'money', 'online', 'start', 'working', 'home', 'today', 'making', '3000', 'per', 'month', 'firepacom', 'visit', 'firepacom', 'check', 'lake', 'duzafizz', 'singlewave', 'spourmo', 'burder', 'colorful', 'claster', 'incandescent', 'ambitious', 'winooze', 'absorbing', 'macabre', 'crestboot', 'boxium', 'womanly', 'tan', 'ybuwyn', 'forgetful', 'pepelexa', 'zealous', 'waka', 'wakad', 'check', 'new', 'halloween', 'video', '14', 'year', 'old', 'boys', 'trying', 'enter', 'music', 'industry', 'maybe', 'dreamers', 'one', 'please', 'give', 'us', 'one', 'chance', 'prove', 'ourself', 'know', 'things', 'annoying', 'hell', 'sorry', 'anything', 'get', 'music', 'heard', 'please', 'visit', 'channel', 'subscribe', 'like', 'thumb', 'comment', 'everyone', 'see', 'made', 'song', 'called', 'wan', 'na', 'play', 'game', 'please', 'take', 'look', 'channel', 'thankss', 'plz', 'wilsubscribe', 'frndzzl', 'subscribe', 'u', 'back', 'guys', 'check', 'extraordinary', 'website', 'called', 'moneygqcom', 'make', 'money', 'online', 'start', 'working', 'home', 'today', 'making', '3000', 'per', 'month', 'moneygqcom', 'visit', 'moneygqcom', 'check', 'fragile', 'swim', 'enlist', 'person', 'ice', 'audit', 'frequent', 'son', 'fantastic', 'chance', 'describes', 'rate', 'subscribe', 'requite', 'stop', 'wasting', 'time', 'get', 'paid', 'mess', 'around', 'facebook', 'twitter', 'get', 'paid', 'upto', '25', '35', 'hour', '4netjobscom', 'work', 'comfort', 'home', 'currently', 'hiring', 'people', 'world', 'wide', 'range', 'social', 'media', 'jobs', 'sites', 'facebooktwitter', 'youtube', 'don39t', 'need', 'prior', 'skills', 'experience', 'begin', 'work', 'immediately', 'easily', 'make', '4000', '5000', 'monthly', 'income…only', '4netjobscom', 'love', 'one', 'fave', 'songs', 'subscribed', 'guys', 'check', 'extraordinary', 'website', 'called', 'zonepacom', 'make', 'money', 'online', 'start', 'working', 'home', 'today', 'making', '3000', 'per', 'month', 'zonepacom', 'visit', 'zonepacom', 'check', 'statement', 'conciliate', 'acidic', 'stretch', 'earth', 'recognizes', 'money', 'numberless', 'number', 'transport', 'trade', 'make', 'lot', 'money', 'fast', 'visit', 'quot', 'ww', 'estiloproduction', 'com', 'quot', 'best', 'website', 'make', 'money', 'message', 'gta', 'v', '20', 'fifa', '14', '15', 'ps4', '200', 'galaxy', 's4', 'mini', '250', 'ipad', '4', '200', 'visit', 'site', 'hhnl', 'stop', 'wasting', 'time', 'get', 'paid', 'mess', 'around', 'facebook', 'twitter', 'get', 'paid', 'upto', '25', '35', 'hour', '4netjobscom', 'work', 'comfort', 'home', 'currently', 'hiring', 'people', 'world', 'wide', 'range', 'social', 'media', 'jobs', 'sites', 'facebooktwitter', 'youtube', 'don39t', 'need', 'prior', 'skills', 'experience', 'begin', 'work', 'immediately', 'easily', 'make', '4000', '5000', 'monthly', 'income…only', '4netjobscom', 'paid', 'respond', 'fast', 'paid', 'surveys', 'home', 'enabled', 'give', 'working', 'make', '4500', 'bucks', 'monthly', 'read', 'go', 'web', 'site', 'bitly1bsefqe', 'hello', 'guysi', 'found', 'way', 'make', 'money', 'online', 'get', 'paid', 'mess', 'around', 'facebook', 'twitter', 'get', 'paid', 'upto', '25', '35', 'houronly', '4netjobscom', 'work', 'comfort', 'home', 'currently', 'hiring', 'people', 'world', 'wide', 'range', 'social', 'media', 'jobs', 'sites', 'facebooktwitter', 'youtube', 'don39t', 'need', 'prior', 'skills', 'experience', 'begin', 'work', 'immediately', 'easily', 'make', '4000', '5000', 'monthly', 'income…only', '4netjobscom', 'guys', 'check', 'extraordinary', 'website', 'called', 'zonepacom', 'make', 'money', 'online', 'start', 'working', 'home', 'today', 'making', '3000', 'per', 'month', 'zonepacom', 'visit', 'zonepacom', 'check', 'meat', 'discusss', 'successful', 'memory', 'peaceful', 'unit', 'arbitrate', 'guide', 'addition', 'designs', 'worried', 'loss', 'guys', 'check', 'extraordinary', 'website', 'called', 'zonepacom', 'make', 'money', 'online', 'start', 'working', 'home', 'today', 'making', '3000', 'per', 'month', 'zonepacom', 'visit', 'zonepacom', 'check', 'mother', 'approve', 'axiomatic', 'insurance', 'fear', 'appoints', 'roll', 'space', 'prepare', 'historical', 'shame', 'guys', 'check', 'extraordinary', 'website', 'called', 'zonepacom', 'make', 'money', 'online', 'start', 'working', 'home', 'today', 'making', '3000', 'per', 'month', 'zonepacom', 'visit', 'zonepacom', 'check', 'plausible', 'summer', 'submits', 'behavior', 'grass', 'check', 'peaceful', 'seat', 'country', 'strategizes', 'edge', 'check', 'channel', 'subscribe', 'hello', 'guysi', 'found', 'way', 'make', 'money', 'online', 'get', 'paid', 'mess', 'around', 'facebook', 'twitter', 'get', 'paid', 'upto', '25', '35', 'houronly', '4netjobscom', 'work', 'comfort', 'home', 'currently', 'hiring', 'people', 'world', 'wide', 'range', 'social', 'media', 'jobs', 'sites', 'facebooktwitter', 'youtube', 'don39t', 'need', 'prior', 'skills', 'experience', 'begin', 'work', 'immediately', 'easily', 'make', '4000', '5000', 'monthly', 'income…only', '4netjobscom', 'please', 'visit', 'website', 'oldchattk', 'please', 'visit', 'website', 'oldchattk', 'hello', 'everyone', 'name39s', 'anderson', 'i39m', 'singer', 'expecting', 'buy', 'subscribers', 'words', 'gain', 'voice', 'might', 'best', 'voice', 'different', 'good', 'way', 'i39ll', 'work', 'harder', 'anyone', 'get', 'better', '39cuz', 'quotyeahquot', 'dream', 'huge', 'one', 'doesn39t', 'please', 'take', '3', 'minutes', 'time', 'check', 'covers', 'give', 'chance', 'won39t', 'regret', 'feel', 'like', 'subscribing', 'that39d', 'awesome', 'it39d', 'mean', 'world', 'thank', 'much', 'check', 'daneja', 'good', 'girl', 'hello', 'guysi', 'found', 'way', 'make', 'money', 'online', 'get', 'paid', 'mess', 'around', 'facebook', 'twitter', 'get', 'paid', 'upto', '25', '35', 'houronly', '4netjobscom', 'work', 'comfort', 'home', 'currently', 'hiring', 'people', 'world', 'wide', 'range', 'social', 'media', 'jobs', 'sites', 'facebooktwitter', 'youtube', 'don39t', 'need', 'prior', 'skills', 'experience', 'begin', 'work', 'immediately', 'easily', 'make', '4000', '5000', 'monthly', 'income…only', '4netjobscom', 'subscribe', 'youtube', 'channel', 'suscribite', 'mi', 'canal', 'de', 'youtube', 'whatuknow', 'check', 'bass', 'cover', 'hips', 'don39t', 'lie', 'shakira', 'subscribe', 'channel', 'lt3', 'britishs', 'called', 'soccer', 'know', 'true', 'word', 'football', 'us', 'foot', 'called', 'rugby', 'works', 'like', 'euw', 'germany', 'netherland', 'france', 'portugal', 'belgium', 'spain', 'britishs', 'don39t', 'agree', 'like', 'us', 'unique', 'that39s', 'reason', 'also', 'refused', 'euro', '€', 'money', 'subscribe', 'love', 'song', 'love', 'football', 'beutiful', 'beutiful', 'she39s', 'pretty', 'like', 'perfect', '1', '753', '682', '421', 'gangnam', 'style', 'fucking', 'bitch', 'song', 'racist', 'shakifans', 'like', 'want', 'new', 'song', 'shakira', 'perfect', 'shakira', 'remember', 'waka', 'waka', 'makes', 'miss', 'world', 'cup', 'best', 'song', 'eva', 'love', 'believe', 'jesus', 'christ', 'savior', 'sins', 'truly', 'believe', 'jesus', 'christ', 'savior', 'sins', 'go', 'heaven', 'believe', 'jesus', 'christ', 'saved', 'salvation', 'gained', 'god', '’', 'righteousness', 'matters', 'much', 'sinned', 'past', 'present', 'especially', 'future', 'believe', 'jesus', 'christ', 'savior', 'go', 'heaven', 'forever', 'whole', 'truth', 'spread', 'truth', 'perhaps', 'seen', 'newest', 'miley', 'cyrus', 'secret', 'video', 'she39s', 'sucking', 'old', 'man39s', 'cock', 'wish', 'see', 'check', 'celebrity', 'website', 'beneath', 'mileysecretvideocouk', 'haha', 'miley', 'cyrus', 'done', 'today', 'someone', 'leeched', 'porno', 'video', 'celeb', 'site', 'believe', 'website', 'link', 'mileycelebnewscouk', 'case', 'want', 'view', 'really', 'can39t', 'comprehend', 'miley', 'cyrus', 'actually', 'high', 'profile', 'tapes', 'banging', 'today', 'video', 'leeched', 'sucking', 'fucking', 'video', 'posted', 'celebrity', 'website', 'mileycelebnewscouk', 'voice', 'wow', 'shakira', 'wow', 'love', 'like', 'love', 'much', 'people', 'friends', 'love', 'shakira', 'shakira', 'love', 'beautiful', 'shakira', 'beautiful', 'good', 'god', 'hot', 'perfect', 'lt3', 'wow', 'shakira', 'voice', 'sound', 'spanish', 'make', 'music', 'sound', 'amazing', '♥i', 'love', 'check', 'daneja', 'good', 'girl', 'check', 'covers', 'please', 'hey', 'music', 'fans', 'really', 'appreciate', 'take', 'time', 'read', 'check', 'music', 'i39m', '15', 'year', 'old', 'boy', 'dreaming', 'successful', 'musician', 'music', 'world', 'lots', 'covers', 'piano', 'covers', 'don39t', 'money', 'advertise', 'simple', 'thumbs', 'comment', 'comment', 'videos', 'subscription', 'would', 'step', 'forward', 'seconds', 'life', 'won39t', 'regret', 'thank', 'u', 'people', 'give', 'chance', 'echa', 'un', 'vistazo', 'la', 'remezcla', 'check', 'remix', 'miley', 'cyrus', 'wrecking', 'ball', 'house', 'edm', 'remix', 'miley', 'cyrus', 'wrecking', 'ball', 'vincent', 'remix', 'click', 'enlace', 'suscríbase', 'click', 'link', 'subscribe', 'hey', 'check', 'new', 'musicvideo', '3939life39s', 'celebration3939', 'peace', 'hi', 'check', 'share', 'songs', 'subscribe', 'amp', 'like', 'watchv5tu9gn1l310', 'watchvdtqcftr1fac', 'justien', 'bieber', 'car', '2013', 'likeampsubscribe', 'check', 'bands', 'page', 'youtube', 'killtheclockhd', 'check', 'original', 'songs', 'including', 'quotyour', 'disguisequot', 'hi', 'check', 'awesome', 'covers', 'say', 'think', 'hope', 'everyone', 'good', 'spirits', 'i39m', 'hard', 'working', 'student', 'who39s', 'also', 'passionate', 'singer', 'look', 'foward', 'day', 'make', 'music', 'share', 'i39ve', 'covers', 'check', 'channel', 'i39ve', 'done', 'covers', 'miley', 'cyrus', 'imagine', 'dragons', 'lana', 'del', 'rey', 'drake', 'macklemore', 'pink', 'countless', 'others', 'subscribe', 'want', 'goal', 'isn39t', 'become', 'famous', 'inspire', 'fyi', 'isn39t', 'spamming', 'everyone', 'right', 'freedom', 'speech', 'thanks', 'please', 'visit', 'web', 'wellcomemdblogfacom', 'please', 'check', 'video', 'called', 'quotwe', 'love', 'mind', 'master', 'itquot', 'thanks', 'perfect', 'ｈｔｔｐｗｗｗｅｂａｙｃｏｍｕｓｒｓｈｏｅｃｏｌｌｅｃｔｏｒ314', 'beautiful', 'song', 'beautiful', 'girl', 'works', 'shakira', 'omg', 'love', 'ouf', 'ouf', 'ouffffffffffffffffff', 'awesome', 'cool', 'song', 'never', 'get', 'old', 'always', 'goose', 'bumps', 'part', 'love', 'love', 'song', 'want', 'see', 'shakira', 'football', 'good', 'recommend', 'apple', 'ipad', '4th', 'gen', '32gb', 'unlocked', 'wifi4g', '97in', 'white', 'price390', 'apple', 'iphone', '5', 'latest', 'model', '32gb', 'black', 'price385', 'samsung', 'galaxy', 's4', 'iv', '4', '16gb', 'new', 'white', 'price360', 'sony', '60inch', '3d', 'led', 'hdtv', 'price510', 'allinone', 'pcs', 'apple', 'macbook', 'pro', 'apple', 'macbook', 'air', 'price320', 'camera', 'nikon', 'd90', 'slr', 'camera', '1855mm', '55200mm', '32gb', 'price390', 'ultrabooks', 'sony', 'vaio', 'pro', '13', 'intel', 'core', 'i5', '4gb', '128gb', 'price515', 'purchase', 'online', 'website', 'taaeecom', 'quothelp', 'humanity', 'sign', 'link', 'wholehearted', 'support', 'say', 'quotnoquot', 'discrimination', '“', 'united', 'stand', '“', 'bring', 'change', 'together', 'impossible', 'says', 'possiblequot', 'winners', 'successcheers', 'loving', 'brothers', 'sisters', 'please', 'share', 'link', 'facebook', 'support', 'discrimination', 'tinyurldotcomslashmxh2y77', 'fear', 'none', 'god', 'part', '5', 'comforter', 'afflicted', 'pray', 'us', 'help', 'christians', 'pray', 'us', 'queen', 'angels', 'pray', 'us', 'queen', 'patriarchs', 'pray', 'us', 'queen', 'prophets', 'pray', 'us', 'queen', 'apostles', 'pray', 'us', 'queen', 'martyrs', 'pray', 'us', 'queen', 'confessors', 'pray', 'us', 'queen', 'virgins', 'pray', 'us', 'queen', 'saints', 'pray', 'us', 'queen', 'conceived', 'without', 'original', 'sin', 'pray', 'us', 'queen', 'holy', 'rosary', 'pray', 'us', 'queen', 'family', 'pray', 'us', 'queen', 'peace', 'pray', 'us', 'part', '2', 'holy', 'mary', 'pray', 'us', 'holy', 'mother', 'god', 'pray', 'us', 'holy', 'virgin', 'virgins', 'pray', 'us', 'mother', 'christ', 'pray', 'us', 'mother', 'divine', 'grace', 'pray', 'us', 'mother', 'pure', 'pray', 'us', 'mother', 'chaste', 'pray', 'us', 'mother', 'inviolate', 'pray', 'us', 'mother', 'undefiled', 'pray', 'us', 'mother', 'amiable', 'pray', 'us', 'mother', 'admirable', 'pray', 'us', 'mother', 'good', 'counsel', 'pray', 'us', 'mother', 'creator', 'pray', 'us', 'mother', 'redeemer', 'pray', 'us', 'hi', 'everyone', 'anyone', 'real', 'online', 'work', 'help', 'u', 'earn', 'lots', 'money', 'it39s', 'fun', 'it39s', 'real', 'affiliated', 'company', 'u', 'think', 'u', 'r', 'working', 'it39s', 'easy', 'enjoyable', 'info', 'contact', 'neeru105', 'gmailcom', 'nice', 'song', 'god', 'sexy', 'drives', 'crazy', 'wow', 'shakira', 'best', 'nice', 'shakira', 'shakira', 'best', 'hey', 'youtubers', 'music', 'lover39s', 'guess', 'skip', 'comments', 'still', 'reading', 'thanks', 'dont', 'money', 'advertisiments', 'chance', 'getting', 'heard', 'nothing', 'that39s', 'left', 'spam', 'sorry', 'im', '17', 'rappersinger', 'estonia', 'please', 'listen', 'new', 'cover', 'account', 'wont', 'regret', 'give', 'chance', 'please', 'take', 'half', 'second', 'life', 'thumb', 'comment', 'maybe', 'change', 'life', 'real', 'thank', 'wafence', 'want', 'make', 'easy', 'money', 'check', 'page', 'tvcmcadavidweebly', 'com', 'dont', 'miss', 'opportunity', 'give', 'thumbs', 'would', 'apprecitate', 'please', 'check', 'video', 'called', 'quotwe', 'love', 'mind', 'master', 'itquot', 'thank', 'u', 'ways', 'make', 'money', '50k', 'per', 'month', 'search', 'google', 'gtgt', '9nlmemakemoneywithoutinvestment1', 'meet', 'richest', 'online', 'marketer', 'click', 'bitlymakemoneywithoutadroid', 'know', 'people', 'makes', 'another', 'account', 'subscribing', 'liking', 'i39ll', 'subscribe', 'look', 'nice', 'hey', 'dickwad', 'we39re', 'africans', 'colour', 'skin', 'tells', 'us', 'something', 'long', 'ago', 'ancestors', 'left', 'africa', 'check', 'baba', 'brinkman', 'song', 'called', 'quoti39m', 'africanquot', 'go', 'learn', 'something', 'wow', 'muslims', 'really', 'egoistic', '23', 'world', 'population', 'video', 'donating', '1', 'dollar', 'poor', 'ones', 'africa', 'shame', 'terrorist', 'muslims', 'wats', 'good', 'go', 'check', 'music', 'da', 'channel', 'ik', 'yall', 'got', 'know', 'y39all', 'check', 'amy', 'music', 'yall', 'got', 'go', 'da', 'channel', 'northland', 'paranormal', 'society', 'youtube', 'check', 'channel', 'real', 'paranormal', 'evidence', 'facebook', 'northland', 'paranormal', 'society', 'hello', 'everyone', 'know', 'probably', 'pass', 'kind', 'comments', 'still', 'reading', 'thanks', '’', 'money', 'advertisements', 'chance', 'getting', 'heard', 'nothing', 'live', 'small', 'town', 'comes', 'spam', 'sorry', '’', 'instrumental', 'songwriter', 'columbus', 'mississippi', 'please', 'go', 'channel', 'check', 'original', 'music', 'would', 'highly', 'appreciated', 'thumbs', 'comment', 'music', 'heard', 'thank', 'adam', 'whitney', 'going', 'call', 'instrumental', 'songwriter', 'theres', 'singing', 'theres', 'song', 'write', 'lol', 'got', 'alot', 'learn', 'kid', 'hey', 'don39t', 'forget', 'subscribe', 'hello', 'everyone', 'know', 'probably', 'pass', 'kind', 'comments', 'still', 'reading', 'thanks', '’', 'money', 'advertisements', 'chance', 'getting', 'heard', 'nothing', 'live', 'small', 'town', 'comes', 'spam', 'sorry', '’', 'instrumental', 'songwriter', 'columbus', 'mississippi', 'please', 'go', 'channel', 'check', 'original', 'music', 'would', 'highly', 'appreciated', 'thumbs', 'comment', 'music', 'heard', 'thank', 'adam', 'whitney', 'please', 'go', 'see', 'channel', 'subscribe', 'would', 'nice', 'mate', 'wan', 'na', 'earn', 'money', 'online', 'without', 'investmentjust', 'visit', 'link', 'thergloveblogspotin201308blogpost10html', 'hello', 'everyone', 'know', 'probably', 'pass', 'kind', 'comments', 'still', 'reading', 'thanks', '’', 'money', 'advertisements', 'chance', 'getting', 'heard', 'nothing', 'live', 'small', 'town', 'comes', 'spam', 'sorry', '’', 'instrumental', 'songwriter', 'columbus', 'mississippi', 'please', 'go', 'channel', 'check', 'original', 'music', 'would', 'highly', 'appreciated', 'thumbs', 'comment', 'music', 'heard', 'thank', 'adam', 'whitney', 'check', 'dubstep', 'version', 'make', 'money', 'wan', 'na', 'laugh', 'please', 'subscribe', 'channel', 'earn', 'money', 'online', '0', 'efforts', 'bitly14gkvdo', 'could', 'please', 'check', 'covers', 'channel', 'covers', 'like', 'adele', 'kodaline', 'imagine', 'dragonsand', 'please', 'could', 'spare', 'minutes', 'could', 'listen', 'one', 'two', 'covers', 'feel', 'free', 'comment', 'subscribe', 'thank', 'adfly', 'kld3y', 'check', 'irish', 'guys', 'cover', 'avicii39s', 'wake', 'search', 'quotwake', 'fiddle', 'sillyquot', 'worth', 'listen', 'gorgeous', 'fiddle', 'player', 'hello', 'everyone', 'know', 'probably', 'pass', 'kind', 'comments', 'still', 'reading', 'thanks', '’', 'money', 'advertisements', 'chance', 'getting', 'heard', 'nothing', 'comes', 'spam', 'sorry', 'video', 'animator', 'trying', 'make', 'video', 'animation', 'industry', 'please', 'give', 'chance', 'prove', 'please', 'visit', 'channel', 'subscribe', 'like', 'thumb', 'comment', 'everyone', 'see', 'thank', 'hello', 'everyone', 'know', 'probably', 'pass', 'kind', 'comments', 'still', 'reading', 'thanks', '’', 'money', 'advertisements', 'chance', 'getting', 'heard', 'nothing', 'comes', 'spam', 'sorry', 'video', 'animator', 'trying', 'make', 'video', 'animation', 'industry', 'please', 'give', 'chance', 'prove', 'please', 'visit', 'channel', 'subscribe', 'like', 'thumb', 'comment', 'everyone', 'see', 'thank', 'hey', 'youtubers', 'really', 'appreciate', 'took', 'time', 'read', '19', 'year', 'old', 'boy', 'wants', 'successful', 'musician', 'music', 'world', 'dont', 'money', 'advertise', 'channel', 'could', 'visit', 'channel', 'comment', 'video', 'subscribe', 'would', 'great', 'seconds', 'life', 'thank', 'u', 'people', 'gave', 'chance', 'l', 'really', 'appreciate', 'subscribe', 'pagee', 'please', 'please', 'subscribe', 'page', 'thanks', 'hey', 'hit', 'shit', 'yall', 'killed', 'versace', 'remix', 'type', 'cge', 'quotversace', 'freestyle', 'get', 'moneyquot', 'shot', 'jawan', 'gardner', 'help', 'reach', '1', 'million', 'views', 'hey', 'guys', 'girls', 'check', 'comedy', 'recipe', 'hilarious', 'tube', 'videos', 'pranks', 'crank', 'calls', 'subscribe', 'subscribe', 'back', 'subscribe', 'subscribe', 'back', 'please', 'check', 'channel', 'subscribe', 'back', 'really', 'ask', 'nicely', 'view', 'vids', 'subscribe', 'back', 'facebook', 'lame', '2004', 'check', 'swagfriends', 'com', 'make', 'thousands', 'cool', 'new', 'friends', 'everyday', 'join', 'new', 'movement', 'hi', 'check', 'share', 'songs', 'check', 'partyman318', 'fr', 'good', 'tunez', 'hey', 'youtubers', 'really', 'appreciate', 'took', 'time', 'read', '19', 'year', 'old', 'boy', 'wants', 'successful', 'musician', 'music', 'world', 'dont', 'money', 'advertise', 'channel', 'could', 'visit', 'channel', 'comment', 'video', 'subscribe', 'would', 'great', 'seconds', 'life', 'thank', 'u', 'people', 'gave', 'chance', 'l', 'really', 'appreciate', 'hey', 'music', 'fans', 'really', 'appreciate', 'take', 'time', 'read', 'check', 'music', 'i39m', '15', 'year', 'old', 'boy', 'dreaming', 'successful', 'musician', 'music', 'world', 'lots', 'covers', 'piano', 'covers', 'don39t', 'money', 'advertise', 'simple', 'thumbs', 'comment', 'comment', 'videos', 'subscription', 'would', 'step', 'forward', 'seconds', 'life', 'won39t', 'regret', 'thank', 'u', 'people', 'give', 'chance', 'hey', 'music', 'fans', 'really', 'appreciate', 'take', 'time', 'read', 'check', 'music', 'i39m', '15', 'year', 'old', 'boy', 'dreaming', 'successful', 'musician', 'music', 'world', 'lots', 'covers', 'piano', 'covers', 'don39t', 'money', 'advertise', 'simple', 'thumbs', 'comment', 'comment', 'videos', 'subscription', 'would', 'step', 'forward', 'seconds', 'life', 'won39t', 'regret', 'thank', 'u', 'people', 'give', 'chance', 'hey', 'music', 'fans', 'really', 'appreciate', 'take', 'time', 'read', 'check', 'music', 'i39m', '15', 'year', 'old', 'boy', 'dreaming', 'successful', 'musician', 'music', 'world', 'lots', 'covers', 'piano', 'covers', 'don39t', 'money', 'advertise', 'simple', 'thumbs', 'comment', 'comment', 'videos', 'subscription', 'would', 'step', 'forward', 'seconds', 'life', 'won39t', 'regret', 'thank', 'u', 'people', 'give', 'chance', 'hi', 'check', 'share', 'songs', 'hi', 'check', 'share', 'songs', 'hicheck', 'share', 'songs', 'hey', 'music', 'fans', 'really', 'appreciate', 'take', 'time', 'read', 'check', 'music', 'i39m', '15', 'year', 'old', 'boy', 'dreaming', 'successful', 'musician', 'music', 'world', 'lots', 'covers', 'piano', 'covers', 'don39t', 'money', 'advertise', 'simple', 'thumbs', 'comment', 'comment', 'videos', 'subscription', 'would', 'step', 'forward', 'seconds', 'life', 'won39t', 'regret', 'thank', 'u', 'people', 'give', 'chance', 'hey', 'forty', 'hour', 'famine', 'i39ll', 'giving', 'food', 'social', 'working', '40', 'hours', 'i39m', 'raise', 'money', 'african', 'people', 'can39t', 'experience', 'luxuries', 'donate', 'give', 'chance', 'amount', 'would', 'click', 'link', 'donate', 'h', 'p', '4', '0', 'h', 'f', 'c', 'u', 'n', 'h', 'n', 'l', 'thanks', 'love', 'itt', 'ppl', 'check', 'channel', 'subscribe', 'channel', 'adfly', 'kld3y', 'adfly', 'kld3y', 'check', 'new', 'video', 'hey', 'music', 'fans', 'really', 'appreciate', 'take', 'time', 'read', 'check', 'music', 'i39m', '15', 'year', 'old', 'boy', 'dreaming', 'successful', 'musician', 'music', 'world', 'lots', 'covers', 'piano', 'covers', 'dont', 'money', 'advertise', 'simple', 'thumbs', 'comment', 'comment', 'videos', 'subscription', 'would', 'step', 'forward', 'seconds', 'life', 'u', 'won39t', 'regret', 'thank', 'u', 'people', 'give', 'chance', 'means', 'lot', 'hello', 'everyone', 'intention', 'spam', 'truly', 'sorry', 'anyone', 'annoyed', 'please', 'hear', 'rapper', 'singer', 'music', 'producer', 'song', 'writer', 'making', 'music', 'eight', 'years', 'exact', 'enjoy', 'making', 'types', 'music', 'anyone', 'listen', 'doesn39t', 'talking', 'killing', 'anyone', 'importantly', 'focuses', 'quality', 'music', 'please', 'check', 'page', 'it39s', 'click', 'away', 'thank', 'nice', 'day', 'facebook', 'lame', '2004', 'check', 'swagfriends', 'com', 'make', 'thousands', 'cool', 'new', 'friends', 'everyday', 'join', 'new', 'movement', 'please', 'check', 'send', 'others', 'freedom', 'justice', 'line', 'please', 'google', 'steven', 'l', 'reed', 'case', 'lands', 'supreme', 'courtthanks', 'nice', 'meet', 'johnny', '1', 'already', 'know', 'music', 'thumb', 'found', 'way', '2', 'want', 'hear', 'original', 'songs', 'completely', 'made', '1', 'person', 'continue', 'reading', 'sing', 'write', 'original', 'musiclyrics', 'amp', 'play', 'guitar', 'bass', 'drums', 'amp', 'keyboards', 'i39m', '1manband', 'music', 'completely', 'independent', 'amp', '100', 'listenersupported', 'want', 'hear', 'amp', 'you39re', 'willing', 'help', 'record', 'new', 'album', 'click', 'namepicture', 'enjoy', 'music', 'wish', 'awesome', 'day', 'hey', 'check', 'channel', 'alvar', 'lake', 'hi', 'johnny', '1', 'already', 'know', 'music', 'thumb', 'found', 'way', '2', 'want', 'hear', 'original', 'songs', 'completely', 'made', '1', 'person', 'continue', 'reading', 'sing', 'write', 'original', 'musiclyrics', 'amp', 'play', 'guitar', 'bass', 'drums', 'amp', 'keyboards', 'i39m', '1manband', 'music', 'completely', 'independent', 'amp', '100', 'listenersupported', 'want', 'hear', 'amp', 'you39re', 'willing', 'help', 'record', 'new', 'album', 'click', 'namepicture', 'thank', 'amp', 'enjoy', 'music', 'wish', 'awesome', 'day', 'wow', 'love', 'song', 'love', 'song', 'check', 'video', 'youtubebr', 'quotthis', 'time', 'africaquot', 'one', 'trayvon', 'motherlandbr', 'thankyou', 'shakira\\ufeff', 'watched', 'large', 'amount', 'views', 'convinced', 'girl', 'hot', 'peoples', 'earth', 'seen', 'perform', 'every', 'form', 'evil', 'leisure', 'cease', 'reveling', 'hate', 'behold', 'murder', 'innocent', 'day', 'night', 'plot', 'evil', 'neighbor', 'stand', 'rights', 'commit', 'abomination', 'clap', 'hands', 'wickedness', 'celebrated', 'openly', 'streets', 'perverse', 'abominable', 'generation', 'shall', 'repay', 'hear', 'word', 'lord', 'trumpetcallofgodonline', 'co', 'song', 'always', 'gives', 'chills', 'love', 'dis', 'song', '3', 'never', 'forget', 'song', 'life', 'like', 'comment', 'hearing', 'song', 'like', 'year', 'omg', 'facebook', 'old', 'check', 'gt', 'swagfriends', 'com', 'make', 'thousands', 'cool', 'new', 'friends', 'everyday', 'join', 'movement', 'hey', 'music', 'fans', 'really', 'appreciate', 'take', 'time', 'read', 'check', 'music', 'i39m', '15', 'year', 'old', 'boy', 'dreaming', 'successful', 'musician', 'music', 'world', 'lots', 'covers', 'piano', 'covers', 'dont', 'money', 'advertise', 'simple', 'thumbs', 'comment', 'comment', 'videos', 'subscription', 'would', 'step', 'forward', 'seconds', 'life', 'u', 'won39t', 'regret', 'thank', 'u', 'people', 'give', 'chance', 'means', 'lot', 'check', 'new', 'mixtape', 'check', 'new', 'mixtape', 'check', 'new', 'mixtape', 'check', 'new', 'mixtapecheck', 'new', 'mixtape', 'check', 'new', 'mixtape', 'check', 'new', 'mixtape', 'check', 'new', 'mixtapecheck', 'new', 'mixtape', 'check', 'new', 'mixtape', 'check', 'new', 'mixtape', 'check', 'new', 'mixtapecheck', 'new', 'mixtape', 'check', 'new', 'mixtape', 'check', 'new', 'mixtape', 'check', 'new', 'mixtape', 'check', 'new', 'mixtape', 'check', 'new', 'mixtape', 'check', 'new', 'mixtape', 'check', 'new', 'mixtapecheck', 'new', 'mixtape', 'check', 'new', 'mixtape', 'check', 'new', 'mixtape', 'check', 'new', 'mixtapecheck', 'new', 'mixtape', 'check', 'new', 'mixtape', 'check', 'new', 'mixtape', 'check', 'new', 'mixtapecheck', 'new', 'mixtape', 'check', 'new', 'mixtape', 'check', 'new', 'mixtape', 'check', 'new', 'mixtape', 'check', 'new', 'mixtape', 'check', 'new', 'mixtape', 'check', 'new', 'mixtape', 'check', 'new', 'mixtapecheck', 'new', 'mixtape', 'check', 'new', 'mixtape', 'check', 'new', 'mixtape', 'check', 'new', 'mixtapecheck', 'new', 'mixtape', 'check', 'new', 'mixtape', 'check', 'new', 'mixtape', 'check', 'new', 'mixtapecheck', 'new', 'mixtape', 'check', 'new', 'mixtape', 'check', 'new', 'mixtape', 'check', 'new', 'mixtape', 'waka', 'waka', 'rules', 'sooooo', 'beautiful', 'well', 'done', 'shakira', 'love', 'song', 'sing', 'camp', 'time', 'love', 'song', 'two', 'reasons', '1it', 'africa', '2i', 'born', 'beautiful', 'south', 'africa', 'wow', 'shakira', 'u', 'wiredo', 'shakira', 'best', 'dancer']\n"
     ]
    }
   ],
   "source": [
    "final_content = []\n",
    "for word in content_token:\n",
    "    for x in word:\n",
    "        if x not in stop_words:\n",
    "            final_content.append(x)\n",
    "print(final_content)"
   ]
  },
  {
   "cell_type": "markdown",
   "id": "c470421d",
   "metadata": {},
   "source": [
    "# NLP Emotion Algorithm"
   ]
  },
  {
   "cell_type": "code",
   "execution_count": 30,
   "id": "d6e6ca14",
   "metadata": {},
   "outputs": [
    {
     "name": "stdout",
     "output_type": "stream",
     "text": [
      "Counter({' happy': 6, ' sad': 2, ' free': 2, ' attached': 2, ' attracted': 2, ' angry': 1, ' esteemed': 1, ' ecstatic': 1, ' lustful': 1, ' safe': 1, ' fearless': 1, ' fearful': 1, ' loved': 1})\n"
     ]
    }
   ],
   "source": [
    "reaction_list = []\n",
    "with open('reaction.txt', 'r') as reaction_file:\n",
    "    for line in reaction_file:\n",
    "        clear_line = line.replace('\\n', '').replace(',', '').replace(\"'\", '').strip()\n",
    "        word, reaction = clear_line.split(':')\n",
    "        if word in final_content:\n",
    "            reaction_list.append(reaction)\n",
    "\n",
    "w = Counter(reaction_list)\n",
    "print(w)"
   ]
  },
  {
   "cell_type": "markdown",
   "id": "d76b250e",
   "metadata": {},
   "source": [
    "# Plotting the graph of the reactions"
   ]
  },
  {
   "cell_type": "code",
   "execution_count": 34,
   "id": "697fade9",
   "metadata": {},
   "outputs": [
    {
     "data": {
      "image/png": "[encoded data removed]",
      "text/plain": [
       "<Figure size 1080x720 with 1 Axes>"
      ]
     },
     "metadata": {
      "needs_background": "light"
     },
     "output_type": "display_data"
    }
   ],
   "source": [
    "fig, ax = plt.subplots(figsize= (15,10))\n",
    "plt.bar(w.keys(), w.values(), edgecolor= \"red\")\n",
    "fig.autofmt_xdate()\n",
    "plt.savefig('reaction_graph.jpg', dpi=100)\n",
    "plt.show()"
   ]
  }
 ],
 "metadata": {
  "kernelspec": {
   "display_name": "Python 3",
   "language": "python",
   "name": "python3"
  },
  "language_info": {
   "codemirror_mode": {
    "name": "ipython",
    "version": 3
   },
   "file_extension": ".py",
   "mimetype": "text/x-python",
   "name": "python",
   "nbconvert_exporter": "python",
   "pygments_lexer": "ipython3",
   "version": "3.8.8"
  }
 },
 "nbformat": 4,
 "nbformat_minor": 5
}
